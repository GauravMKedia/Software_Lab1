{
 "cells": [
  {
   "cell_type": "code",
   "execution_count": 47,
   "id": "ec5922a3",
   "metadata": {},
   "outputs": [],
   "source": [
    "from sklearn.datasets import load_iris\n",
    "from sklearn.model_selection import train_test_split\n",
    "import numpy as np"
   ]
  },
  {
   "cell_type": "code",
   "execution_count": 48,
   "id": "dd5881e2",
   "metadata": {},
   "outputs": [],
   "source": [
    "data = load_iris()\n",
    "X, y = data.data, data.target\n",
    "X_train, X_test, y_train, y_test = train_test_split(X, y,\n",
    "test_size=0.2, random_state=42)\n"
   ]
  },
  {
   "cell_type": "code",
   "execution_count": 49,
   "id": "b5f2b04c",
   "metadata": {},
   "outputs": [],
   "source": [
    "input_size = X_train.shape[1]\n",
    "hidden_size = 3\n",
    "output_size = 4"
   ]
  },
  {
   "cell_type": "code",
   "execution_count": 64,
   "id": "50732b3c",
   "metadata": {},
   "outputs": [],
   "source": [
    "def objective(x, y):\n",
    "     return x**2.0 + y**2.0"
   ]
  },
  {
   "cell_type": "code",
   "execution_count": 61,
   "id": "d003e425",
   "metadata": {},
   "outputs": [],
   "source": [
    "def sigmoid(x):\n",
    "    return 1 / (1 + np.exp(-x))"
   ]
  },
  {
   "cell_type": "code",
   "execution_count": 56,
   "id": "996c8bff",
   "metadata": {},
   "outputs": [],
   "source": [
    "def forward(X, W1, b1, W2, b2):\n",
    "    Z1 = np.dot(X, W1) + b1\n",
    "    A1 = sigmoid(Z1)\n",
    "    Z2 = np.dot(A1, W2) + b2\n",
    "    A2 = np.exp(Z2) / np.sum(np.exp(Z2), axis=1, keepdims=True)\n",
    "    return A1, A2"
   ]
  },
  {
   "cell_type": "code",
   "execution_count": 57,
   "id": "f25eed4d",
   "metadata": {},
   "outputs": [],
   "source": [
    "def backward(X, y, A1, A2, W1, b1, W2, b2):\n",
    "    m = X.shape[0]\n",
    "    dZ2 = A2 - y\n",
    "    dW2 = (1 / m) * np.dot(A1.T, dZ2)\n",
    "    db2 = (1 / m) * np.sum(dZ2, axis=0, keepdims=True)\n",
    "    dZ1 = np.dot(dZ2, W2.T) * (1 - np.power(A1, 2))\n",
    "    dW1 = (1 / m) * np.dot(X.T, dZ1)\n",
    "    db1 = (1 / m) * np.sum(dZ1, axis=0)\n",
    "    return dW1, db1, dW2, db2"
   ]
  },
  {
   "cell_type": "code",
   "execution_count": 58,
   "id": "0d30ab15",
   "metadata": {},
   "outputs": [],
   "source": [
    "def predict(X, W1, b1, W2, b2):\n",
    "    A1, A2 = forward(X, W1, b1, W2, b2)\n",
    "    return np.argmax(A2, axis=1)"
   ]
  },
  {
   "cell_type": "code",
   "execution_count": 62,
   "id": "4e7a9fe3",
   "metadata": {},
   "outputs": [],
   "source": [
    "def train(X, y, X_test, y_test, learning_rate, epochs):\n",
    "    solutions = list()\n",
    "    W1 = np.random.randn(input_size, hidden_size)\n",
    "    b1 = np.zeros((1, hidden_size))\n",
    "    W2 = np.random.randn(hidden_size, output_size)\n",
    "    b2 = np.zeros((1, output_size))\n",
    "    for i in range(epochs):\n",
    "     # Forward propagation\n",
    "        new_solution = list()\n",
    "        A1, A2 = forward(X, W1, b1, W2, b2)\n",
    "     # training loss\n",
    "         y_one_hot = np.eye(output_size)[y]\n",
    "         train_loss = np.mean((y_one_hot - A2)**2)\n",
    "         print(f\"Epoch {i}, Training Loss: {train_loss}\")\n",
    "        \n",
    "         dW1, db1, dW2, db2 = backward(X, y_one_hot, A1, A2, W1, b1,W2, b2)\n",
    "         # update w and b\n",
    "         W1 -= learning_rate * dW1\n",
    "         b1 -= learning_rate * db1\n",
    "         W2 -= learning_rate * dW2\n",
    "         b2 -= learning_rate * db2\n",
    " # Testing accuracy\n",
    "    y_test_pred = predict(X_test, W1, b1, W2, b2)\n",
    "    acc_test = np.mean(y_test_pred == y_test)\n",
    "    print(f\"Testing Accuracy: {acc_test}\")"
   ]
  },
  {
   "cell_type": "code",
   "execution_count": 63,
   "id": "55e3ee41",
   "metadata": {
    "scrolled": true
   },
   "outputs": [
    {
     "name": "stdout",
     "output_type": "stream",
     "text": [
      "Epoch 0, Training Loss: 0.1692957477797207\n",
      "Epoch 1, Training Loss: 0.169097377881349\n",
      "Epoch 2, Training Loss: 0.16891474149563784\n",
      "Epoch 3, Training Loss: 0.16874360931165486\n",
      "Epoch 4, Training Loss: 0.16858081504767777\n",
      "Epoch 5, Training Loss: 0.16842399073975892\n",
      "Epoch 6, Training Loss: 0.16827136812252164\n",
      "Epoch 7, Training Loss: 0.168121629903205\n",
      "Epoch 8, Training Loss: 0.16797379841206475\n",
      "Epoch 9, Training Loss: 0.16782715214355495\n",
      "Epoch 10, Training Loss: 0.16768116308181172\n",
      "Epoch 11, Training Loss: 0.16753544952034236\n",
      "Epoch 12, Training Loss: 0.16738974045002136\n",
      "Epoch 13, Training Loss: 0.16724384860428484\n",
      "Epoch 14, Training Loss: 0.16709765000132387\n",
      "Epoch 15, Training Loss: 0.16695106837742468\n",
      "Epoch 16, Training Loss: 0.16680406331468403\n",
      "Epoch 17, Training Loss: 0.1666566211685148\n",
      "Epoch 18, Training Loss: 0.16650874812401686\n",
      "Epoch 19, Training Loss: 0.1663604648762643\n",
      "Epoch 20, Training Loss: 0.16621180255310464\n",
      "Epoch 21, Training Loss: 0.1660627995913444\n",
      "Epoch 22, Training Loss: 0.16591349934636063\n",
      "Epoch 23, Training Loss: 0.16576394826721347\n",
      "Epoch 24, Training Loss: 0.16561419450862988\n",
      "Epoch 25, Training Loss: 0.165464286881008\n",
      "Epoch 26, Training Loss: 0.16531427406224983\n",
      "Epoch 27, Training Loss: 0.1651642040125227\n",
      "Epoch 28, Training Loss: 0.16501412354630443\n",
      "Epoch 29, Training Loss: 0.1648640780262502\n",
      "Epoch 30, Training Loss: 0.16471411115127607\n",
      "Epoch 31, Training Loss: 0.16456426481732989\n",
      "Epoch 32, Training Loss: 0.16441457903403583\n",
      "Epoch 33, Training Loss: 0.1642650918840653\n",
      "Epoch 34, Training Loss: 0.16411583951494801\n",
      "Epoch 35, Training Loss: 0.16396685615527412\n",
      "Epoch 36, Training Loss: 0.1638181741489891\n",
      "Epoch 37, Training Loss: 0.16366982400285918\n",
      "Epoch 38, Training Loss: 0.163521834443266\n",
      "Epoch 39, Training Loss: 0.16337423247934132\n",
      "Epoch 40, Training Loss: 0.16322704347012193\n",
      "Epoch 41, Training Loss: 0.16308029119393583\n",
      "Epoch 42, Training Loss: 0.1629339979186468\n",
      "Epoch 43, Training Loss: 0.16278818447171606\n",
      "Epoch 44, Training Loss: 0.16264287030929553\n",
      "Epoch 45, Training Loss: 0.1624980735837777\n",
      "Epoch 46, Training Loss: 0.16235381120938192\n",
      "Epoch 47, Training Loss: 0.16221009892548732\n",
      "Epoch 48, Training Loss: 0.16206695135752006\n",
      "Epoch 49, Training Loss: 0.16192438207527857\n",
      "Epoch 50, Training Loss: 0.16178240364864113\n",
      "Epoch 51, Training Loss: 0.1616410277006444\n",
      "Epoch 52, Training Loss: 0.16150026495795775\n",
      "Epoch 53, Training Loss: 0.1613601252988023\n",
      "Epoch 54, Training Loss: 0.16122061779838404\n",
      "Epoch 55, Training Loss: 0.1610817507719229\n",
      "Epoch 56, Training Loss: 0.1609435318153699\n",
      "Epoch 57, Training Loss: 0.16080596784390952\n",
      "Epoch 58, Training Loss: 0.16066906512834803\n",
      "Epoch 59, Training Loss: 0.16053282932949034\n",
      "Epoch 60, Training Loss: 0.1603972655306066\n",
      "Epoch 61, Training Loss: 0.1602623782680889\n",
      "Epoch 62, Training Loss: 0.16012817156039655\n",
      "Epoch 63, Training Loss: 0.1599946489353843\n",
      "Epoch 64, Training Loss: 0.15986181345610487\n",
      "Epoch 65, Training Loss: 0.15972966774517455\n",
      "Epoch 66, Training Loss: 0.15959821400778443\n",
      "Epoch 67, Training Loss: 0.15946745405343807\n",
      "Epoch 68, Training Loss: 0.15933738931649064\n",
      "Epoch 69, Training Loss: 0.15920802087556193\n",
      "Epoch 70, Training Loss: 0.1590793494718908\n",
      "Epoch 71, Training Loss: 0.15895137552669494\n",
      "Epoch 72, Training Loss: 0.15882409915759627\n",
      "Epoch 73, Training Loss: 0.1586975201941692\n",
      "Epoch 74, Training Loss: 0.15857163819266454\n",
      "Epoch 75, Training Loss: 0.15844645244995934\n",
      "Epoch 76, Training Loss: 0.15832196201677978\n",
      "Epoch 77, Training Loss: 0.15819816571024126\n",
      "Epoch 78, Training Loss: 0.15807506212574654\n",
      "Epoch 79, Training Loss: 0.15795264964828137\n",
      "Epoch 80, Training Loss: 0.15783092646314323\n",
      "Epoch 81, Training Loss: 0.15770989056613724\n",
      "Epoch 82, Training Loss: 0.15758953977327148\n",
      "Epoch 83, Training Loss: 0.15746987172998048\n",
      "Epoch 84, Training Loss: 0.15735088391990573\n",
      "Epoch 85, Training Loss: 0.1572325736732582\n",
      "Epoch 86, Training Loss: 0.15711493817478803\n",
      "Epoch 87, Training Loss: 0.15699797447138325\n",
      "Epoch 88, Training Loss: 0.15688167947931972\n",
      "Epoch 89, Training Loss: 0.15676604999118124\n",
      "Epoch 90, Training Loss: 0.15665108268246927\n",
      "Epoch 91, Training Loss: 0.1565367741179186\n",
      "Epoch 92, Training Loss: 0.1564231207575365\n",
      "Epoch 93, Training Loss: 0.1563101189623792\n",
      "Epoch 94, Training Loss: 0.1561977650000812\n",
      "Epoch 95, Training Loss: 0.15608605505014947\n",
      "Epoch 96, Training Loss: 0.15597498520903616\n",
      "Epoch 97, Training Loss: 0.15586455149500042\n",
      "Epoch 98, Training Loss: 0.15575474985277118\n",
      "Epoch 99, Training Loss: 0.15564557615802027\n",
      "Testing Accuracy: 0.7\n"
     ]
    }
   ],
   "source": [
    "train(X_train, y_train, X_test, y_test, learning_rate=0.01,epochs=100)"
   ]
  },
  {
   "cell_type": "code",
   "execution_count": null,
   "id": "816625b3",
   "metadata": {},
   "outputs": [],
   "source": [
    "r_min, r_max = -1.0, 1.0\n",
    "xaxis = arange(r_min, r_max, 0.1)\n",
    "yaxis = arange(r_min, r_max, 0.1)\n",
    "\n",
    "x, y = meshgrid(xaxis, yaxis)\n",
    "results = objective(x, y)\n",
    "\n",
    "\n",
    "pyplot.contourf(x, y, results, levels=100, cmap='jet')\n",
    "solutions = asarray(solution)\n",
    "# print(solutions[:, 0])\n",
    "# print(solutions[:, 1])\n",
    "pyplot.plot(solutions[:, 0], solutions[:, 1], '.-', color='w')\n",
    "pyplot.show()\n",
    "\n"
   ]
  }
 ],
 "metadata": {
  "kernelspec": {
   "display_name": "Python 3 (ipykernel)",
   "language": "python",
   "name": "python3"
  },
  "language_info": {
   "codemirror_mode": {
    "name": "ipython",
    "version": 3
   },
   "file_extension": ".py",
   "mimetype": "text/x-python",
   "name": "python",
   "nbconvert_exporter": "python",
   "pygments_lexer": "ipython3",
   "version": "3.10.6"
  }
 },
 "nbformat": 4,
 "nbformat_minor": 5
}
