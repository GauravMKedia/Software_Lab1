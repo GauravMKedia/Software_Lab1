{
 "cells": [
  {
   "cell_type": "markdown",
   "id": "a8a83c15",
   "metadata": {},
   "source": [
    "Write a program which will demonstrate the\n",
    "backpropagation with gradient descent. Clearly show the\n",
    "working (change of position from intial to final in each\n",
    "iteration) in 2D and 3D space."
   ]
  },
  {
   "cell_type": "code",
   "execution_count": 13,
   "id": "11ada01a",
   "metadata": {},
   "outputs": [
    {
     "name": "stdout",
     "output_type": "stream",
     "text": [
      "[[0.9797339 ]\n",
      " [0.9802038 ]\n",
      " [0.02477011]\n",
      " [0.00666282]]\n"
     ]
    }
   ],
   "source": [
    "import numpy as np\n",
    "\n",
    "# Define the sigmoid activation function\n",
    "def sigmoid(x):\n",
    "    return 1 / (1 + np.exp(-x))\n",
    "\n",
    "# Define the derivative of the sigmoid activation function\n",
    "def sigmoid_derivative(x):\n",
    "    return x * (1 - x)\n",
    "\n",
    "# Define the neural network architecture\n",
    "input_layer_size = 2\n",
    "hidden_layer_size = 3\n",
    "output_layer_size = 1\n",
    "\n",
    "# Initialize the weights and biases\n",
    "w1 = np.random.randn(input_layer_size, hidden_layer_size)\n",
    "b1 = np.zeros((1, hidden_layer_size))\n",
    "w2 = np.random.randn(hidden_layer_size, output_layer_size)\n",
    "b2 = np.zeros((1, output_layer_size))\n",
    "\n",
    "# Define the input and output data\n",
    "X = np.array([[0, 1], [1, 0], [1, 1], [0, 0]])\n",
    "y = np.array([[1], [1], [0], [0]])\n",
    "\n",
    "# Define the learning rate and number of epochs\n",
    "learning_rate = 0.5\n",
    "num_epochs = 10000\n",
    "\n",
    "# Perform gradient descent using backpropagation\n",
    "for i in range(num_epochs):\n",
    "    # Forward pass\n",
    "    z1 = np.dot(X, w1) + b1\n",
    "    a1 = sigmoid(z1)\n",
    "    z2 = np.dot(a1, w2) + b2\n",
    "    y_hat = sigmoid(z2)\n",
    "    \n",
    "    # Compute the loss and its gradient\n",
    "    error = y - y_hat\n",
    "    d_output = error * sigmoid_derivative(y_hat)\n",
    "    \n",
    "    # Backpropagate the error to the hidden layer\n",
    "    d_hidden = np.dot(d_output, w2.T) * sigmoid_derivative(a1)\n",
    "    \n",
    "    # Update the weights and biases\n",
    "    w2 += learning_rate * np.dot(a1.T, d_output)\n",
    "    b2 += learning_rate * np.sum(d_output, axis=0, keepdims=True)\n",
    "    w1 += learning_rate * np.dot(X.T, d_hidden)\n",
    "    b1 += learning_rate * np.sum(d_hidden, axis=0, keepdims=True)\n",
    "\n",
    "# Print the final predicted outputs\n",
    "print(y_hat)\n"
   ]
  },
  {
   "cell_type": "code",
   "execution_count": null,
   "id": "a066d426",
   "metadata": {},
   "outputs": [],
   "source": []
  }
 ],
 "metadata": {
  "kernelspec": {
   "display_name": "Python 3 (ipykernel)",
   "language": "python",
   "name": "python3"
  },
  "language_info": {
   "codemirror_mode": {
    "name": "ipython",
    "version": 3
   },
   "file_extension": ".py",
   "mimetype": "text/x-python",
   "name": "python",
   "nbconvert_exporter": "python",
   "pygments_lexer": "ipython3",
   "version": "3.10.6"
  }
 },
 "nbformat": 4,
 "nbformat_minor": 5
}
