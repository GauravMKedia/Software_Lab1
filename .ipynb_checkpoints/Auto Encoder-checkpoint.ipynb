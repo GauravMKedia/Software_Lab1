{
 "cells": [
  {
   "cell_type": "code",
   "execution_count": 16,
   "id": "e18a1221",
   "metadata": {
    "scrolled": false
   },
   "outputs": [
    {
     "name": "stdout",
     "output_type": "stream",
     "text": [
      "Epoch 1/10\n",
      "235/235 [==============================] - 3s 10ms/step - loss: 0.0561 - val_loss: 0.0300\n",
      "Epoch 2/10\n",
      "235/235 [==============================] - 2s 10ms/step - loss: 0.0244 - val_loss: 0.0203\n",
      "Epoch 3/10\n",
      "235/235 [==============================] - 3s 12ms/step - loss: 0.0190 - val_loss: 0.0172\n",
      "Epoch 4/10\n",
      "235/235 [==============================] - 3s 13ms/step - loss: 0.0163 - val_loss: 0.0149\n",
      "Epoch 5/10\n",
      "235/235 [==============================] - 2s 11ms/step - loss: 0.0147 - val_loss: 0.0138\n",
      "Epoch 6/10\n",
      "235/235 [==============================] - 3s 11ms/step - loss: 0.0135 - val_loss: 0.0129\n",
      "Epoch 7/10\n",
      "235/235 [==============================] - 2s 10ms/step - loss: 0.0127 - val_loss: 0.0120\n",
      "Epoch 8/10\n",
      "235/235 [==============================] - 2s 9ms/step - loss: 0.0121 - val_loss: 0.0116\n",
      "Epoch 9/10\n",
      "235/235 [==============================] - 2s 9ms/step - loss: 0.0116 - val_loss: 0.0111\n",
      "Epoch 10/10\n",
      "235/235 [==============================] - 2s 9ms/step - loss: 0.0111 - val_loss: 0.0107\n"
     ]
    },
    {
     "data": {
      "image/png": "[encoded data removed]",
      "text/plain": [
       "<Figure size 432x288 with 1 Axes>"
      ]
     },
     "metadata": {
      "needs_background": "light"
     },
     "output_type": "display_data"
    },
    {
     "name": "stdout",
     "output_type": "stream",
     "text": [
      "1/1 [==============================] - 0s 109ms/step\n"
     ]
    },
    {
     "data": {
      "image/png": "[encoded data removed]",
      "text/plain": [
       "<Figure size 432x288 with 2 Axes>"
      ]
     },
     "metadata": {
      "needs_background": "light"
     },
     "output_type": "display_data"
    }
   ],
   "source": [
    "import tensorflow as tf\n",
    "import matplotlib.pyplot as plt\n",
    "import numpy as np\n",
    "\n",
    "# Define the encoder\n",
    "def encoder(input_shape, latent_dim):\n",
    "    inputs = tf.keras.layers.Input(shape=input_shape)\n",
    "    x = tf.keras.layers.Flatten()(inputs)\n",
    "    x = tf.keras.layers.Dense(256, activation='relu')(x)\n",
    "    x = tf.keras.layers.Dense(128, activation='relu')(x)\n",
    "    x = tf.keras.layers.Dense(latent_dim, activation='relu')(x)\n",
    "    return tf.keras.Model(inputs, x)\n",
    "\n",
    "# Define the decoder\n",
    "def decoder(latent_dim, output_shape):\n",
    "    inputs = tf.keras.layers.Input(shape=latent_dim)\n",
    "    x = tf.keras.layers.Dense(128, activation='relu')(inputs)\n",
    "    x = tf.keras.layers.Dense(256, activation='relu')(x)\n",
    "    x = tf.keras.layers.Dense(tf.reduce_prod(output_shape), activation='sigmoid')(x)\n",
    "    outputs = tf.keras.layers.Reshape(output_shape)(x)\n",
    "    return tf.keras.Model(inputs, outputs)\n",
    "\n",
    "# Define the autoencoder\n",
    "def autoencoder(input_shape, latent_dim):\n",
    "    inputs = tf.keras.layers.Input(shape=input_shape)\n",
    "    encoder_model = encoder(input_shape, latent_dim)\n",
    "    decoder_model = decoder(latent_dim, input_shape)\n",
    "    encoded = encoder_model(inputs)\n",
    "    decoded = decoder_model(encoded)\n",
    "    autoencoder_model = tf.keras.Model(inputs, decoded)\n",
    "    return autoencoder_model\n",
    "\n",
    "# Define the loss function\n",
    "def reconstruction_loss(inputs, outputs):\n",
    "    return tf.reduce_mean(tf.square(inputs - outputs))\n",
    "\n",
    "# Instantiate the autoencoder model\n",
    "input_shape = (28, 28, 1)\n",
    "latent_dim = 32\n",
    "autoencoder_model = autoencoder(input_shape, latent_dim)\n",
    "\n",
    "# Compile the model\n",
    "autoencoder_model.compile(optimizer='adam', loss=reconstruction_loss)\n",
    "\n",
    "# Train the model\n",
    "(x_train, _), (x_test, _) = tf.keras.datasets.mnist.load_data()\n",
    "x_train = x_train.astype('float32') / 255.\n",
    "x_test = x_test.astype('float32') / 255.\n",
    "x_train = tf.expand_dims(x_train, axis=-1)\n",
    "x_test = tf.expand_dims(x_test, axis=-1)\n",
    "history = autoencoder_model.fit(x_train, x_train, epochs=10, batch_size=256, validation_data=(x_test, x_test))\n",
    "\n",
    "# Plot the training and validation loss\n",
    "plt.plot(history.history['loss'], label='Training Loss')\n",
    "plt.plot(history.history['val_loss'], label='Validation Loss')\n",
    "plt.legend()\n",
    "plt.show()\n",
    "\n",
    "# Test the model on a sample image\n",
    "sample_image = x_test[0]\n",
    "predicted_image = autoencoder_model.predict(tf.expand_dims(sample_image, axis=0))\n",
    "\n",
    "# Plot the input and output images\n",
    "fig, axs = plt.subplots(1, 2)\n",
    "axs[0].imshow(np.squeeze(sample_image), cmap='gray')\n",
    "axs[0].set_title('Input Image')\n",
    "axs[1].imshow(np.squeeze(predicted_image), cmap='gray')\n",
    "axs[1].set_title('Output Image')\n",
    "plt.show()\n"
   ]
  },
  {
   "cell_type": "code",
   "execution_count": null,
   "id": "745bccbf",
   "metadata": {},
   "outputs": [],
   "source": []
  }
 ],
 "metadata": {
  "kernelspec": {
   "display_name": "Python 3 (ipykernel)",
   "language": "python",
   "name": "python3"
  },
  "language_info": {
   "codemirror_mode": {
    "name": "ipython",
    "version": 3
   },
   "file_extension": ".py",
   "mimetype": "text/x-python",
   "name": "python",
   "nbconvert_exporter": "python",
   "pygments_lexer": "ipython3",
   "version": "3.10.6"
  }
 },
 "nbformat": 4,
 "nbformat_minor": 5
}
