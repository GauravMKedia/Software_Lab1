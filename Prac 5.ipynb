{
 "cells": [
  {
   "cell_type": "markdown",
   "id": "6ec528b8",
   "metadata": {},
   "source": [
    "## Name: Gaurav Kedia"
   ]
  },
  {
   "cell_type": "code",
   "execution_count": 1,
   "id": "8c29b9f4",
   "metadata": {},
   "outputs": [],
   "source": [
    "import sklearn\n",
    "from sklearn import datasets\n",
    "from sklearn.model_selection import train_test_split"
   ]
  },
  {
   "cell_type": "code",
   "execution_count": 2,
   "id": "20fde6dc",
   "metadata": {},
   "outputs": [],
   "source": [
    "iris = datasets.load_iris()\n",
    "\n",
    "x = iris[\"data\"]\n",
    "y = iris.target"
   ]
  },
  {
   "cell_type": "code",
   "execution_count": 3,
   "id": "164d3f0d",
   "metadata": {},
   "outputs": [],
   "source": [
    "temp = []\n",
    "for i in y:\n",
    "  if i == 0:\n",
    "    res = [1,0,0]\n",
    "  elif i == 1:\n",
    "    res = [0, 1, 0]\n",
    "  else:\n",
    "    res = [0, 0, 1]\n",
    "  temp.append(res)\n",
    "y = temp"
   ]
  },
  {
   "cell_type": "code",
   "execution_count": 4,
   "id": "b02b53bb",
   "metadata": {},
   "outputs": [],
   "source": [
    "X_train, X_test, y_train, y_test = train_test_split(x, y, test_size=0.3, random_state=42)"
   ]
  },
  {
   "cell_type": "code",
   "execution_count": 5,
   "id": "7a49ad59",
   "metadata": {},
   "outputs": [],
   "source": [
    "import random\n",
    "import math"
   ]
  },
  {
   "cell_type": "code",
   "execution_count": 6,
   "id": "f3e3b285",
   "metadata": {},
   "outputs": [],
   "source": [
    "def activation(x):\n",
    "  res = 1/(1 + math.exp(-x));\n",
    "  return round(res, 4)\n",
    "\n",
    "def calcLoss(y, yDash):\n",
    "  res = [0, 0, 0]\n",
    "  for i in range(len(y)):\n",
    "    res[0] += (y[i][0] - yDash[i][0])**2\n",
    "    res[1] += (y[i][1] - yDash[i][1])**2\n",
    "    res[2] += (y[i][2] - yDash[i][2])**2\n",
    "  res = [round(i/2, 4) for i in res]\n",
    "  return res"
   ]
  },
  {
   "cell_type": "code",
   "execution_count": 7,
   "id": "13e73e58",
   "metadata": {},
   "outputs": [],
   "source": [
    "w = [ round(random.random(), 4) for x in range(20) ]"
   ]
  },
  {
   "cell_type": "code",
   "execution_count": 8,
   "id": "a821950f",
   "metadata": {},
   "outputs": [],
   "source": [
    "def forward(weight = [], inp = []):\n",
    "  netRes = []\n",
    "  res = []\n",
    "  netH = []\n",
    "  hRes = []\n",
    "  # input layer 4 + 1 with bias\n",
    "  for i in inp:\n",
    "    h1, h2 = 0, 0\n",
    "    k = 0\n",
    "    for j in i:\n",
    "      h1 += w[k]*j\n",
    "      k += 1\n",
    "\n",
    "    # bias with 1\n",
    "    h1 += w[k]\n",
    "    k+= 1\n",
    "\n",
    "    for j in i:\n",
    "      h2 += w[k]*j\n",
    "      k += 1\n",
    "    \n",
    "    # bias with 1\n",
    "    h2 += w[k]\n",
    "    k+= 1\n",
    "\n",
    "    netH.append([h1, h2])\n",
    "    h1 = activation(h1)\n",
    "    h2 = activation(h2)\n",
    "\n",
    "    o1, o2, o3 = 0, 0, 0\n",
    "    o1 = h1*w[k] + h2*w[k+1] + w[k+2]\n",
    "    k += 3\n",
    "\n",
    "    o2 = h1*w[k] + h2*w[k+1] + w[k+2]\n",
    "    k += 3\n",
    "\n",
    "    o3 = h1*w[k] + h2*w[k+1] + w[k+2]\n",
    "\n",
    "    netRes.append([o1, o2, o3])\n",
    "    o1 = activation(o1)\n",
    "    o2 = activation(o2)\n",
    "    o3 = activation(o3)\n",
    "\n",
    "    hRes.append([h1, h2])\n",
    "    res.append([o1, o2, o3])\n",
    "  return (netH, hRes, netRes, res)"
   ]
  },
  {
   "cell_type": "code",
   "execution_count": 9,
   "id": "489a2e7e",
   "metadata": {},
   "outputs": [],
   "source": [
    "ita = 0.1\n",
    "def backpropagation(x, tar, out, netOut, h, netH, w):\n",
    "\n",
    "  for iw in range(11,14):\n",
    "    dw = 0\n",
    "    j = 0\n",
    "    for i in range(len(x)):\n",
    "      a = - ( tar[i][0] - out[i][0] )\n",
    "      a *= out[i][0]*(1 - out[i][0])\n",
    "      a *= h[i][j] if (j < len(h[i])) else 1\n",
    "      j += 1\n",
    "      dw += a\n",
    "    w[iw] = w[iw] - ita*dw\n",
    "\n",
    "  for iw in range(14,17):\n",
    "    dw = 0\n",
    "    j = 0\n",
    "    for i in range(len(x)):\n",
    "      a = - ( tar[i][1] - out[i][1] )\n",
    "      a *= out[i][1]*(1 - out[i][1])\n",
    "      a *= h[i][j] if (j < len(h[i])) else 1\n",
    "      j += 1\n",
    "      dw += a\n",
    "    w[iw] = w[iw] - ita*dw\n",
    "\n",
    "  for iw in range(17,20):\n",
    "    \n",
    "    dw = 0\n",
    "    j = 0\n",
    "    for i in range(len(x)):\n",
    "   \n",
    "      a = - ( tar[i][2] - out[i][2] )\n",
    "      a *= out[i][2]*(1 - out[i][2])\n",
    "      a *= h[i][j] if (j < len(h[i])) else 1\n",
    "      j += 1\n",
    "      dw += a\n",
    "    w[iw] = w[iw] - ita*dw\n",
    "\n",
    "  dth1 = 0\n",
    "  for i in range(len(x)):\n",
    "    temp = - ( tar[i][0] - out[i][0] )\n",
    "    temp *= out[i][0]*(1 - out[i][0])\n",
    "    temp *= w[11] \n",
    "    dth1 += temp\n",
    "\n",
    "\n",
    "    temp = - ( tar[i][1] - out[i][1] )\n",
    "    temp *= out[i][1]*(1 - out[i][1])\n",
    "    temp *= w[14]\n",
    "    dth1 += temp\n",
    "\n",
    "    temp = - ( tar[i][2] - out[i][2] )\n",
    "    temp *= out[i][2]*(1 - out[i][2])\n",
    "    temp *= w[17]\n",
    "    dth1 += temp\n",
    "\n",
    "  dhn1 = 0\n",
    "  for i in range(len(x)):\n",
    "    dhn1 += h[i][0]*(1 - h[i][0])\n",
    "  \n",
    "  for i in range(0,6):\n",
    "    dw = 0\n",
    "    for j in range(len(x)):\n",
    "      temp = x[j][i] if (i < len(x[j])) else 0;\n",
    "      dw += dth1*dhn1*temp\n",
    "    w[i] = w[i] - ita*dw\n",
    "\n",
    "  dth2 = 0\n",
    "  for i in range(len(x)):\n",
    "    # for o1\n",
    "    temp = - ( tar[i][0] - out[i][0] )\n",
    "    temp *= out[i][0]*(1 - out[i][0])\n",
    "    temp *= w[12] \n",
    "    dth1 += temp\n",
    "\n",
    "\n",
    "    # for o2\n",
    "    temp = - ( tar[i][1] - out[i][1] )\n",
    "    temp *= out[i][1]*(1 - out[i][1])\n",
    "    temp *= w[15]\n",
    "    dth1 += temp\n",
    "\n",
    "    # for o3\n",
    "    temp = - ( tar[i][2] - out[i][2] )\n",
    "    temp *= out[i][2]*(1 - out[i][2])\n",
    "    temp *= w[18]\n",
    "    dth1 += temp\n",
    "\n",
    "  dhn1 = 0\n",
    "  for i in range(len(x)):\n",
    "    dhn1 += h[i][1]*(1 - h[i][1])\n",
    "  \n",
    "  for i in range(6,11):\n",
    "    dw = 0\n",
    "    for j in range(len(x)):\n",
    "      temp = x[j][i] if (i < len(x[j])) else 0\n",
    "      dw += dth1*dhn1*temp\n",
    "    w[i] = w[i] - ita*dw\n",
    "\n",
    "  return w"
   ]
  },
  {
   "cell_type": "code",
   "execution_count": 10,
   "id": "6f804ead",
   "metadata": {},
   "outputs": [
    {
     "name": "stdout",
     "output_type": "stream",
     "text": [
      "epoch 99 :  [10.8954, 11.9818, 11.981]\n"
     ]
    }
   ],
   "source": [
    "epoch = 100\n",
    "tw = w\n",
    "for i in range(epoch):\n",
    "  yDash = forward(tw, X_train)\n",
    "  tw = backpropagation(X_train, y_train, yDash[3], yDash[2], yDash[1], yDash[0], tw)\n",
    "  \n",
    "  # print(tw)\n",
    "print(\"epoch\",i,\": \", calcLoss(y_train, yDash[3]))"
   ]
  },
  {
   "cell_type": "code",
   "execution_count": 11,
   "id": "f3e0528e",
   "metadata": {},
   "outputs": [
    {
     "data": {
      "text/plain": [
       "[5.8351, 4.7134, 4.713]"
      ]
     },
     "execution_count": 11,
     "metadata": {},
     "output_type": "execute_result"
    }
   ],
   "source": [
    "yDash = forward(tw, X_test)\n",
    "calcLoss(y_test, yDash[3])"
   ]
  },
  {
   "cell_type": "code",
   "execution_count": null,
   "id": "504ed433",
   "metadata": {},
   "outputs": [],
   "source": []
  }
 ],
 "metadata": {
  "kernelspec": {
   "display_name": "Python 3 (ipykernel)",
   "language": "python",
   "name": "python3"
  },
  "language_info": {
   "codemirror_mode": {
    "name": "ipython",
    "version": 3
   },
   "file_extension": ".py",
   "mimetype": "text/x-python",
   "name": "python",
   "nbconvert_exporter": "python",
   "pygments_lexer": "ipython3",
   "version": "3.10.6"
  }
 },
 "nbformat": 4,
 "nbformat_minor": 5
}
